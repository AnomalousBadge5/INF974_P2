{
 "cells": [
  {
   "cell_type": "code",
   "execution_count": 10,
   "id": "140f21da",
   "metadata": {},
   "outputs": [
    {
     "data": {
      "text/plain": [
       "Data(x=[3, 1], edge_index=[2, 4])"
      ]
     },
     "execution_count": 10,
     "metadata": {},
     "output_type": "execute_result"
    }
   ],
   "source": [
    "import torch\n",
    "from torch_geometric.data import Data\n",
    "\n",
    "edge_index = torch.tensor([[0, 1, 1, 2],\n",
    "                           [1, 0, 2, 1]], dtype=torch.long)\n",
    "x = torch.tensor([[-1], [0], [1]], dtype=torch.float)\n",
    "\n",
    "data = Data(x=x, edge_index=edge_index)\n",
    "data\n",
    "# Data(edge_index=[2, 4], x=[3, 1])"
   ]
  },
  {
   "cell_type": "code",
   "execution_count": 11,
   "id": "f84554cc",
   "metadata": {},
   "outputs": [
    {
     "data": {
      "text/plain": [
       "Data(x=[3, 1], edge_index=[2, 4])"
      ]
     },
     "execution_count": 11,
     "metadata": {},
     "output_type": "execute_result"
    }
   ],
   "source": [
    "\n",
    "import torch\n",
    "from torch_geometric.data import Data\n",
    "\n",
    "edge_index = torch.tensor([[0, 1],\n",
    "                           [1, 0],\n",
    "                           [1, 2],\n",
    "                           [2, 1]], dtype=torch.long)\n",
    "x = torch.tensor([[-1], [0], [1]], dtype=torch.float)\n",
    "\n",
    "data = Data(x=x, edge_index=edge_index.t().contiguous())\n",
    "data\n",
    "# Data(edge_index=[2, 4], x=[3, 1])"
   ]
  },
  {
   "cell_type": "code",
   "execution_count": 7,
   "id": "7bf2006b",
   "metadata": {},
   "outputs": [
    {
     "data": {
      "text/plain": [
       "True"
      ]
     },
     "execution_count": 7,
     "metadata": {},
     "output_type": "execute_result"
    }
   ],
   "source": [
    "data.validate(raise_on_error=True)"
   ]
  },
  {
   "cell_type": "code",
   "execution_count": 9,
   "id": "addb5498",
   "metadata": {},
   "outputs": [
    {
     "name": "stdout",
     "output_type": "stream",
     "text": [
      "['edge_index', 'x']\n"
     ]
    }
   ],
   "source": [
    "print(data.keys())"
   ]
  },
  {
   "cell_type": "code",
   "execution_count": null,
   "id": "d0ff9623",
   "metadata": {},
   "outputs": [],
   "source": [
    "print(data['x'])"
   ]
  },
  {
   "cell_type": "code",
   "execution_count": 12,
   "id": "ae2bcf6a",
   "metadata": {},
   "outputs": [
    {
     "name": "stdout",
     "output_type": "stream",
     "text": [
      "x found in data\n",
      "edge_index found in data\n"
     ]
    }
   ],
   "source": [
    "for key, item in data:\n",
    "    print(f'{key} found in data')"
   ]
  },
  {
   "cell_type": "code",
   "execution_count": 13,
   "id": "bdd4894b",
   "metadata": {},
   "outputs": [
    {
     "data": {
      "text/plain": [
       "False"
      ]
     },
     "execution_count": 13,
     "metadata": {},
     "output_type": "execute_result"
    }
   ],
   "source": [
    "'edge_attr' in data"
   ]
  },
  {
   "cell_type": "code",
   "execution_count": 14,
   "id": "c9323b9b",
   "metadata": {},
   "outputs": [
    {
     "data": {
      "text/plain": [
       "3"
      ]
     },
     "execution_count": 14,
     "metadata": {},
     "output_type": "execute_result"
    }
   ],
   "source": [
    "data.num_nodes"
   ]
  },
  {
   "cell_type": "code",
   "execution_count": 15,
   "id": "a8265ab6",
   "metadata": {},
   "outputs": [
    {
     "data": {
      "text/plain": [
       "4"
      ]
     },
     "execution_count": 15,
     "metadata": {},
     "output_type": "execute_result"
    }
   ],
   "source": [
    "data.num_edges"
   ]
  },
  {
   "cell_type": "code",
   "execution_count": 17,
   "id": "6a7fa708",
   "metadata": {},
   "outputs": [
    {
     "data": {
      "text/plain": [
       "1"
      ]
     },
     "execution_count": 17,
     "metadata": {},
     "output_type": "execute_result"
    }
   ],
   "source": [
    "data.num_node_features"
   ]
  },
  {
   "cell_type": "code",
   "execution_count": 18,
   "id": "401f1609",
   "metadata": {},
   "outputs": [
    {
     "data": {
      "text/plain": [
       "False"
      ]
     },
     "execution_count": 18,
     "metadata": {},
     "output_type": "execute_result"
    }
   ],
   "source": [
    "data.has_isolated_nodes()"
   ]
  },
  {
   "cell_type": "code",
   "execution_count": 19,
   "id": "9d335917",
   "metadata": {},
   "outputs": [
    {
     "data": {
      "text/plain": [
       "False"
      ]
     },
     "execution_count": 19,
     "metadata": {},
     "output_type": "execute_result"
    }
   ],
   "source": [
    "data.has_self_loops()"
   ]
  },
  {
   "cell_type": "code",
   "execution_count": 20,
   "id": "f0094778",
   "metadata": {},
   "outputs": [
    {
     "data": {
      "text/plain": [
       "False"
      ]
     },
     "execution_count": 20,
     "metadata": {},
     "output_type": "execute_result"
    }
   ],
   "source": [
    "data.is_directed()"
   ]
  },
  {
   "cell_type": "code",
   "execution_count": 16,
   "id": "ffec67f2",
   "metadata": {},
   "outputs": [],
   "source": [
    "# Transfer data object to GPU.\n",
    "device = torch.device('cuda')\n",
    "data = data.to(device)"
   ]
  },
  {
   "cell_type": "code",
   "execution_count": 31,
   "id": "d891386a",
   "metadata": {},
   "outputs": [],
   "source": [
    "from torch_geometric.datasets import TUDataset\n",
    "\n",
    "dataset = TUDataset(root='/tmp/ENZYMES', name='ENZYMES')"
   ]
  },
  {
   "cell_type": "code",
   "execution_count": 32,
   "id": "3bfc6837",
   "metadata": {},
   "outputs": [],
   "source": [
    "dataset = dataset.shuffle()"
   ]
  },
  {
   "cell_type": "code",
   "execution_count": 33,
   "id": "4e80f425",
   "metadata": {},
   "outputs": [
    {
     "data": {
      "text/plain": [
       "600"
      ]
     },
     "execution_count": 33,
     "metadata": {},
     "output_type": "execute_result"
    }
   ],
   "source": [
    "len(dataset)"
   ]
  },
  {
   "cell_type": "code",
   "execution_count": 34,
   "id": "72820161",
   "metadata": {},
   "outputs": [
    {
     "data": {
      "text/plain": [
       "6"
      ]
     },
     "execution_count": 34,
     "metadata": {},
     "output_type": "execute_result"
    }
   ],
   "source": [
    "dataset.num_classes"
   ]
  },
  {
   "cell_type": "code",
   "execution_count": 35,
   "id": "5bfef032",
   "metadata": {},
   "outputs": [
    {
     "data": {
      "text/plain": [
       "3"
      ]
     },
     "execution_count": 35,
     "metadata": {},
     "output_type": "execute_result"
    }
   ],
   "source": [
    "dataset.num_node_features"
   ]
  },
  {
   "cell_type": "code",
   "execution_count": 36,
   "id": "09844a65",
   "metadata": {},
   "outputs": [],
   "source": [
    "data = dataset[0]"
   ]
  },
  {
   "cell_type": "code",
   "execution_count": 37,
   "id": "a3bd7057",
   "metadata": {},
   "outputs": [
    {
     "data": {
      "text/plain": [
       "True"
      ]
     },
     "execution_count": 37,
     "metadata": {},
     "output_type": "execute_result"
    }
   ],
   "source": [
    "data.is_undirected()"
   ]
  },
  {
   "cell_type": "code",
   "execution_count": 38,
   "id": "0bc164f6",
   "metadata": {},
   "outputs": [],
   "source": [
    "train_dataset = dataset[:540]"
   ]
  },
  {
   "cell_type": "code",
   "execution_count": 39,
   "id": "a1f54aa6",
   "metadata": {},
   "outputs": [],
   "source": [
    "test_dataset = dataset[540:]"
   ]
  },
  {
   "cell_type": "code",
   "execution_count": 40,
   "id": "03c6464a",
   "metadata": {
    "scrolled": true
   },
   "outputs": [
    {
     "name": "stdout",
     "output_type": "stream",
     "text": [
      "DataBatch(edge_index=[2, 4374], x=[1171, 21], y=[32], batch=[1171], ptr=[33])\n",
      "32\n",
      "DataBatch(edge_index=[2, 4296], x=[1057, 21], y=[32], batch=[1057], ptr=[33])\n",
      "32\n",
      "DataBatch(edge_index=[2, 3864], x=[1007, 21], y=[32], batch=[1007], ptr=[33])\n",
      "32\n",
      "DataBatch(edge_index=[2, 4348], x=[1164, 21], y=[32], batch=[1164], ptr=[33])\n",
      "32\n",
      "DataBatch(edge_index=[2, 4106], x=[1076, 21], y=[32], batch=[1076], ptr=[33])\n",
      "32\n",
      "DataBatch(edge_index=[2, 4188], x=[1070, 21], y=[32], batch=[1070], ptr=[33])\n",
      "32\n",
      "DataBatch(edge_index=[2, 3734], x=[982, 21], y=[32], batch=[982], ptr=[33])\n",
      "32\n",
      "DataBatch(edge_index=[2, 3862], x=[1059, 21], y=[32], batch=[1059], ptr=[33])\n",
      "32\n",
      "DataBatch(edge_index=[2, 3878], x=[1015, 21], y=[32], batch=[1015], ptr=[33])\n",
      "32\n",
      "DataBatch(edge_index=[2, 3974], x=[1018, 21], y=[32], batch=[1018], ptr=[33])\n",
      "32\n",
      "DataBatch(edge_index=[2, 3784], x=[980, 21], y=[32], batch=[980], ptr=[33])\n",
      "32\n",
      "DataBatch(edge_index=[2, 3904], x=[1007, 21], y=[32], batch=[1007], ptr=[33])\n",
      "32\n",
      "DataBatch(edge_index=[2, 4432], x=[1201, 21], y=[32], batch=[1201], ptr=[33])\n",
      "32\n",
      "DataBatch(edge_index=[2, 4026], x=[1027, 21], y=[32], batch=[1027], ptr=[33])\n",
      "32\n",
      "DataBatch(edge_index=[2, 3588], x=[916, 21], y=[32], batch=[916], ptr=[33])\n",
      "32\n",
      "DataBatch(edge_index=[2, 3982], x=[1217, 21], y=[32], batch=[1217], ptr=[33])\n",
      "32\n",
      "DataBatch(edge_index=[2, 3552], x=[946, 21], y=[32], batch=[946], ptr=[33])\n",
      "32\n",
      "DataBatch(edge_index=[2, 3778], x=[958, 21], y=[32], batch=[958], ptr=[33])\n",
      "32\n",
      "DataBatch(edge_index=[2, 2894], x=[709, 21], y=[24], batch=[709], ptr=[25])\n",
      "24\n"
     ]
    }
   ],
   "source": [
    "from torch_geometric.datasets import TUDataset\n",
    "from torch_geometric.loader import DataLoader\n",
    "\n",
    "dataset = TUDataset(root='/tmp/ENZYMES', name='ENZYMES', use_node_attr=True)\n",
    "loader = DataLoader(dataset, batch_size=32, shuffle=True)\n",
    "\n",
    "for batch in loader:\n",
    "    print(batch)\n",
    "    print(batch.num_graphs)"
   ]
  },
  {
   "cell_type": "code",
   "execution_count": 41,
   "id": "f4fa756c",
   "metadata": {
    "scrolled": true
   },
   "outputs": [
    {
     "name": "stdout",
     "output_type": "stream",
     "text": [
      "DataBatch(edge_index=[2, 4220], x=[1083, 21], y=[32], batch=[1083], ptr=[33])\n",
      "32\n",
      "torch.Size([32, 21])\n",
      "DataBatch(edge_index=[2, 3982], x=[1048, 21], y=[32], batch=[1048], ptr=[33])\n",
      "32\n",
      "torch.Size([32, 21])\n",
      "DataBatch(edge_index=[2, 4074], x=[1071, 21], y=[32], batch=[1071], ptr=[33])\n",
      "32\n",
      "torch.Size([32, 21])\n",
      "DataBatch(edge_index=[2, 4268], x=[1072, 21], y=[32], batch=[1072], ptr=[33])\n",
      "32\n",
      "torch.Size([32, 21])\n",
      "DataBatch(edge_index=[2, 4050], x=[1050, 21], y=[32], batch=[1050], ptr=[33])\n",
      "32\n",
      "torch.Size([32, 21])\n",
      "DataBatch(edge_index=[2, 4042], x=[1096, 21], y=[32], batch=[1096], ptr=[33])\n",
      "32\n",
      "torch.Size([32, 21])\n",
      "DataBatch(edge_index=[2, 3466], x=[929, 21], y=[32], batch=[929], ptr=[33])\n",
      "32\n",
      "torch.Size([32, 21])\n",
      "DataBatch(edge_index=[2, 4176], x=[1108, 21], y=[32], batch=[1108], ptr=[33])\n",
      "32\n",
      "torch.Size([32, 21])\n",
      "DataBatch(edge_index=[2, 4490], x=[1187, 21], y=[32], batch=[1187], ptr=[33])\n",
      "32\n",
      "torch.Size([32, 21])\n",
      "DataBatch(edge_index=[2, 4208], x=[1071, 21], y=[32], batch=[1071], ptr=[33])\n",
      "32\n",
      "torch.Size([32, 21])\n",
      "DataBatch(edge_index=[2, 4106], x=[1053, 21], y=[32], batch=[1053], ptr=[33])\n",
      "32\n",
      "torch.Size([32, 21])\n",
      "DataBatch(edge_index=[2, 3530], x=[946, 21], y=[32], batch=[946], ptr=[33])\n",
      "32\n",
      "torch.Size([32, 21])\n",
      "DataBatch(edge_index=[2, 3796], x=[1035, 21], y=[32], batch=[1035], ptr=[33])\n",
      "32\n",
      "torch.Size([32, 21])\n",
      "DataBatch(edge_index=[2, 4346], x=[1171, 21], y=[32], batch=[1171], ptr=[33])\n",
      "32\n",
      "torch.Size([32, 21])\n",
      "DataBatch(edge_index=[2, 4194], x=[1088, 21], y=[32], batch=[1088], ptr=[33])\n",
      "32\n",
      "torch.Size([32, 21])\n",
      "DataBatch(edge_index=[2, 3840], x=[1009, 21], y=[32], batch=[1009], ptr=[33])\n",
      "32\n",
      "torch.Size([32, 21])\n",
      "DataBatch(edge_index=[2, 3248], x=[901, 21], y=[32], batch=[901], ptr=[33])\n",
      "32\n",
      "torch.Size([32, 21])\n",
      "DataBatch(edge_index=[2, 3728], x=[931, 21], y=[32], batch=[931], ptr=[33])\n",
      "32\n",
      "torch.Size([32, 21])\n",
      "DataBatch(edge_index=[2, 2800], x=[731, 21], y=[24], batch=[731], ptr=[25])\n",
      "24\n",
      "torch.Size([24, 21])\n"
     ]
    }
   ],
   "source": [
    "from torch_geometric.utils import scatter\n",
    "from torch_geometric.datasets import TUDataset\n",
    "from torch_geometric.loader import DataLoader\n",
    "\n",
    "dataset = TUDataset(root='/tmp/ENZYMES', name='ENZYMES', use_node_attr=True)\n",
    "loader = DataLoader(dataset, batch_size=32, shuffle=True)\n",
    "\n",
    "for data in loader:\n",
    "    print(data)\n",
    "    print(data.num_graphs)\n",
    "    x = scatter(data.x, data.batch, dim=0, reduce='mean')\n",
    "    print(x.size())"
   ]
  },
  {
   "cell_type": "code",
   "execution_count": 45,
   "id": "54251c18",
   "metadata": {
    "scrolled": true
   },
   "outputs": [
    {
     "name": "stderr",
     "output_type": "stream",
     "text": [
      "Processing...\n",
      "Done!\n"
     ]
    },
    {
     "data": {
      "text/plain": [
       "Data(x=[2518, 3], y=[2518], pos=[2518, 3], category=[1])"
      ]
     },
     "execution_count": 45,
     "metadata": {},
     "output_type": "execute_result"
    }
   ],
   "source": [
    "import torch_geometric.transforms as T\n",
    "from torch_geometric.datasets import ShapeNet\n",
    "\n",
    "dataset = ShapeNet(root='/tmp/ShapeNet', categories=['Airplane'])\n",
    "\n",
    "dataset[0]"
   ]
  },
  {
   "cell_type": "code",
   "execution_count": 50,
   "id": "85d06296",
   "metadata": {},
   "outputs": [
    {
     "name": "stderr",
     "output_type": "stream",
     "text": [
      "Downloading https://github.com/kimiyoung/planetoid/raw/master/data/ind.cora.x\n",
      "Downloading https://github.com/kimiyoung/planetoid/raw/master/data/ind.cora.tx\n",
      "Downloading https://github.com/kimiyoung/planetoid/raw/master/data/ind.cora.allx\n",
      "Downloading https://github.com/kimiyoung/planetoid/raw/master/data/ind.cora.y\n",
      "Downloading https://github.com/kimiyoung/planetoid/raw/master/data/ind.cora.ty\n",
      "Downloading https://github.com/kimiyoung/planetoid/raw/master/data/ind.cora.ally\n",
      "Downloading https://github.com/kimiyoung/planetoid/raw/master/data/ind.cora.graph\n",
      "Downloading https://github.com/kimiyoung/planetoid/raw/master/data/ind.cora.test.index\n",
      "Processing...\n",
      "Done!\n"
     ]
    }
   ],
   "source": [
    "from torch_geometric.datasets import Planetoid\n",
    "\n",
    "dataset = Planetoid(root='/tmp/Cora', name='Cora')"
   ]
  },
  {
   "cell_type": "code",
   "execution_count": 51,
   "id": "dba25e5c",
   "metadata": {},
   "outputs": [
    {
     "data": {
      "text/plain": [
       "1433"
      ]
     },
     "execution_count": 51,
     "metadata": {},
     "output_type": "execute_result"
    }
   ],
   "source": [
    "dataset.num_node_features"
   ]
  },
  {
   "cell_type": "code",
   "execution_count": 52,
   "id": "f454aa5b",
   "metadata": {},
   "outputs": [
    {
     "data": {
      "text/plain": [
       "7"
      ]
     },
     "execution_count": 52,
     "metadata": {},
     "output_type": "execute_result"
    }
   ],
   "source": [
    "dataset.num_classes"
   ]
  },
  {
   "cell_type": "code",
   "execution_count": 53,
   "id": "fce696f1",
   "metadata": {},
   "outputs": [],
   "source": [
    "import torch\n",
    "import torch.nn.functional as F\n",
    "from torch_geometric.nn import GCNConv\n",
    "\n",
    "class GCN(torch.nn.Module):\n",
    "    def __init__(self):\n",
    "        super().__init__()\n",
    "        self.conv1 = GCNConv(dataset.num_node_features, 16)\n",
    "        self.conv2 = GCNConv(16, dataset.num_classes)\n",
    "\n",
    "    def forward(self, data):\n",
    "        x, edge_index = data.x, data.edge_index\n",
    "\n",
    "        x = self.conv1(x, edge_index)\n",
    "        x = F.relu(x)\n",
    "        x = F.dropout(x, training=self.training)\n",
    "        x = self.conv2(x, edge_index)\n",
    "\n",
    "        return F.log_softmax(x, dim=1)"
   ]
  },
  {
   "cell_type": "code",
   "execution_count": 54,
   "id": "4ff534a8",
   "metadata": {},
   "outputs": [],
   "source": [
    "device = torch.device('cuda' if torch.cuda.is_available() else 'cpu')\n",
    "model = GCN().to(device)\n",
    "data = dataset[0].to(device)\n",
    "optimizer = torch.optim.Adam(model.parameters(), lr=0.01, weight_decay=5e-4)\n",
    "\n",
    "model.train()\n",
    "for epoch in range(200):\n",
    "    optimizer.zero_grad()\n",
    "    out = model(data)\n",
    "    loss = F.nll_loss(out[data.train_mask], data.y[data.train_mask])\n",
    "    loss.backward()\n",
    "    optimizer.step()"
   ]
  },
  {
   "cell_type": "code",
   "execution_count": 55,
   "id": "3e6df3dc",
   "metadata": {},
   "outputs": [
    {
     "name": "stdout",
     "output_type": "stream",
     "text": [
      "Accuracy: 0.8050\n"
     ]
    }
   ],
   "source": [
    "model.eval()\n",
    "pred = model(data).argmax(dim=1)\n",
    "correct = (pred[data.test_mask] == data.y[data.test_mask]).sum()\n",
    "acc = int(correct) / int(data.test_mask.sum())\n",
    "print(f'Accuracy: {acc:.4f}')"
   ]
  },
  {
   "cell_type": "code",
   "execution_count": null,
   "id": "d503531c",
   "metadata": {},
   "outputs": [],
   "source": []
  },
  {
   "cell_type": "code",
   "execution_count": null,
   "id": "cde01a96",
   "metadata": {},
   "outputs": [],
   "source": []
  },
  {
   "cell_type": "code",
   "execution_count": null,
   "id": "79783345",
   "metadata": {},
   "outputs": [],
   "source": []
  },
  {
   "cell_type": "code",
   "execution_count": null,
   "id": "d5870f8a",
   "metadata": {},
   "outputs": [],
   "source": []
  }
 ],
 "metadata": {
  "kernelspec": {
   "display_name": "Python 3 (ipykernel)",
   "language": "python",
   "name": "python3"
  },
  "language_info": {
   "codemirror_mode": {
    "name": "ipython",
    "version": 3
   },
   "file_extension": ".py",
   "mimetype": "text/x-python",
   "name": "python",
   "nbconvert_exporter": "python",
   "pygments_lexer": "ipython3",
   "version": "3.10.5"
  }
 },
 "nbformat": 4,
 "nbformat_minor": 5
}
