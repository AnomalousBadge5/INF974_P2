{
  "nbformat": 4,
  "nbformat_minor": 0,
  "metadata": {
    "colab": {
      "provenance": [],
      "gpuType": "T4",
      "authorship_tag": "ABX9TyM1VUymeLNpgDbU+4x6TZQd",
      "include_colab_link": true
    },
    "kernelspec": {
      "name": "python3",
      "display_name": "Python 3"
    },
    "language_info": {
      "name": "python"
    },
    "accelerator": "GPU"
  },
  "cells": [
    {
      "cell_type": "markdown",
      "metadata": {
        "id": "view-in-github",
        "colab_type": "text"
      },
      "source": [
        "<a href=\"https://colab.research.google.com/github/AnomalousBadge5/INF974_P2/blob/main/GNN.ipynb\" target=\"_parent\"><img src=\"https://colab.research.google.com/assets/colab-badge.svg\" alt=\"Open In Colab\"/></a>"
      ]
    },
    {
      "cell_type": "code",
      "source": [
        "import os\n",
        "import torch\n",
        "os.environ['TORCH'] = torch.__version__\n",
        "print(torch.__version__)"
      ],
      "metadata": {
        "colab": {
          "base_uri": "https://localhost:8080/"
        },
        "id": "8X4tIW3VRFLt",
        "outputId": "c113928d-2381-424c-93c0-5c05a0d8dee9"
      },
      "execution_count": 2,
      "outputs": [
        {
          "output_type": "stream",
          "name": "stdout",
          "text": [
            "2.2.1+cu121\n"
          ]
        }
      ]
    },
    {
      "cell_type": "code",
      "source": [
        "!pip install torch-scatter -f https://pytorch-geometric.com/whl/torch-${TORCH}.html\n",
        "!pip install torch-sparse -f https://pytorch-geometric.com/whl/torch-${TORCH}.html\n",
        "!pip install torch-cluster -f https://pytorch-geometric.com/whl/torch-${TORCH}.html\n",
        "!pip install -q git+https://github.com/pyg-team/pytorch_geometric.git\n"
      ],
      "metadata": {
        "colab": {
          "base_uri": "https://localhost:8080/"
        },
        "id": "Spt7U1rhRyfl",
        "outputId": "ccf45492-df57-48a9-8987-0fc156f50169"
      },
      "execution_count": 3,
      "outputs": [
        {
          "output_type": "stream",
          "name": "stdout",
          "text": [
            "Looking in links: https://pytorch-geometric.com/whl/torch-2.2.1+cu121.html\n",
            "Collecting torch-scatter\n",
            "  Downloading https://data.pyg.org/whl/torch-2.2.0%2Bcu121/torch_scatter-2.1.2%2Bpt22cu121-cp310-cp310-linux_x86_64.whl (10.9 MB)\n",
            "\u001b[2K     \u001b[90m━━━━━━━━━━━━━━━━━━━━━━━━━━━━━━━━━━━━━━━━\u001b[0m \u001b[32m10.9/10.9 MB\u001b[0m \u001b[31m49.7 MB/s\u001b[0m eta \u001b[36m0:00:00\u001b[0m\n",
            "\u001b[?25hInstalling collected packages: torch-scatter\n",
            "Successfully installed torch-scatter-2.1.2+pt22cu121\n",
            "Looking in links: https://pytorch-geometric.com/whl/torch-2.2.1+cu121.html\n",
            "Collecting torch-sparse\n",
            "  Downloading https://data.pyg.org/whl/torch-2.2.0%2Bcu121/torch_sparse-0.6.18%2Bpt22cu121-cp310-cp310-linux_x86_64.whl (5.0 MB)\n",
            "\u001b[2K     \u001b[90m━━━━━━━━━━━━━━━━━━━━━━━━━━━━━━━━━━━━━━━━\u001b[0m \u001b[32m5.0/5.0 MB\u001b[0m \u001b[31m74.0 MB/s\u001b[0m eta \u001b[36m0:00:00\u001b[0m\n",
            "\u001b[?25hRequirement already satisfied: scipy in /usr/local/lib/python3.10/dist-packages (from torch-sparse) (1.11.4)\n",
            "Requirement already satisfied: numpy<1.28.0,>=1.21.6 in /usr/local/lib/python3.10/dist-packages (from scipy->torch-sparse) (1.25.2)\n",
            "Installing collected packages: torch-sparse\n",
            "Successfully installed torch-sparse-0.6.18+pt22cu121\n",
            "Looking in links: https://pytorch-geometric.com/whl/torch-2.2.1+cu121.html\n",
            "Collecting torch-cluster\n",
            "  Downloading https://data.pyg.org/whl/torch-2.2.0%2Bcu121/torch_cluster-1.6.3%2Bpt22cu121-cp310-cp310-linux_x86_64.whl (3.4 MB)\n",
            "\u001b[2K     \u001b[90m━━━━━━━━━━━━━━━━━━━━━━━━━━━━━━━━━━━━━━━━\u001b[0m \u001b[32m3.4/3.4 MB\u001b[0m \u001b[31m47.1 MB/s\u001b[0m eta \u001b[36m0:00:00\u001b[0m\n",
            "\u001b[?25hRequirement already satisfied: scipy in /usr/local/lib/python3.10/dist-packages (from torch-cluster) (1.11.4)\n",
            "Requirement already satisfied: numpy<1.28.0,>=1.21.6 in /usr/local/lib/python3.10/dist-packages (from scipy->torch-cluster) (1.25.2)\n",
            "Installing collected packages: torch-cluster\n",
            "Successfully installed torch-cluster-1.6.3+pt22cu121\n",
            "  Installing build dependencies ... \u001b[?25l\u001b[?25hdone\n",
            "  Getting requirements to build wheel ... \u001b[?25l\u001b[?25hdone\n",
            "  Preparing metadata (pyproject.toml) ... \u001b[?25l\u001b[?25hdone\n",
            "  Building wheel for torch-geometric (pyproject.toml) ... \u001b[?25l\u001b[?25hdone\n"
          ]
        }
      ]
    },
    {
      "cell_type": "code",
      "source": [
        "import math\n",
        "import torch\n",
        "import torch.nn as nn\n",
        "import torch.nn.functional as F\n",
        "import os.path as osp\n",
        "import torch\n",
        "import matplotlib.pyplot as plt\n",
        "from sklearn.manifold import TSNE\n",
        "from torch_geometric.datasets import Planetoid\n",
        "from tqdm.notebook import tqdm"
      ],
      "metadata": {
        "id": "2u-TzbB3RKBF"
      },
      "execution_count": 4,
      "outputs": []
    },
    {
      "cell_type": "code",
      "source": [
        "import torch_geometric.transforms as T\n",
        "from torch_geometric.datasets import ShapeNet\n",
        "\n",
        "dataset = ShapeNet(root='/tmp/ShapeNet', categories=['Airplane'],\n",
        "                    pre_transform=T.KNNGraph(k=6))\n",
        "\n",
        "data=dataset[0]"
      ],
      "metadata": {
        "colab": {
          "base_uri": "https://localhost:8080/"
        },
        "id": "IoDlddi_RbH2",
        "outputId": "292bfb97-6db0-4343-878c-16ebffb7efa1"
      },
      "execution_count": 5,
      "outputs": [
        {
          "output_type": "stream",
          "name": "stderr",
          "text": [
            "Downloading https://shapenet.cs.stanford.edu/media/shapenetcore_partanno_segmentation_benchmark_v0_normal.zip\n",
            "Extracting /tmp/ShapeNet/shapenetcore_partanno_segmentation_benchmark_v0_normal.zip\n",
            "Processing...\n",
            "Done!\n"
          ]
        }
      ]
    },
    {
      "cell_type": "code",
      "source": [
        "data"
      ],
      "metadata": {
        "colab": {
          "base_uri": "https://localhost:8080/"
        },
        "id": "J7OV4Ia9TAoX",
        "outputId": "30cc5f0f-616f-4f38-dfa2-7889139de23f"
      },
      "execution_count": 6,
      "outputs": [
        {
          "output_type": "execute_result",
          "data": {
            "text/plain": [
              "Data(x=[2518, 3], y=[2518], pos=[2518, 3], category=[1], edge_index=[2, 15108])"
            ]
          },
          "metadata": {},
          "execution_count": 6
        }
      ]
    },
    {
      "cell_type": "code",
      "source": [
        "num_classes = len(torch.unique(data.y))\n",
        "print(\"Number of classes:\", num_classes)"
      ],
      "metadata": {
        "colab": {
          "base_uri": "https://localhost:8080/"
        },
        "id": "X8vD_5HlV4Rb",
        "outputId": "b9d10bac-eb48-402e-cb45-eee146b47871"
      },
      "execution_count": 7,
      "outputs": [
        {
          "output_type": "stream",
          "name": "stdout",
          "text": [
            "Number of classes: 4\n"
          ]
        }
      ]
    },
    {
      "cell_type": "code",
      "source": [
        "data.x"
      ],
      "metadata": {
        "colab": {
          "base_uri": "https://localhost:8080/"
        },
        "id": "dgl-YGyyciK4",
        "outputId": "b07f3a81-6709-4872-fe82-04838617b635"
      },
      "execution_count": 8,
      "outputs": [
        {
          "output_type": "execute_result",
          "data": {
            "text/plain": [
              "tensor([[-0.0392,  0.3344,  0.9416],\n",
              "        [ 0.0011,  0.3488, -0.9372],\n",
              "        [-0.2507,  0.9366,  0.2447],\n",
              "        ...,\n",
              "        [ 0.6270, -0.5863,  0.5130],\n",
              "        [-0.2090,  0.9760, -0.0607],\n",
              "        [-0.2459,  0.9653, -0.0878]])"
            ]
          },
          "metadata": {},
          "execution_count": 8
        }
      ]
    },
    {
      "cell_type": "code",
      "source": [
        "dataset[0]"
      ],
      "metadata": {
        "colab": {
          "base_uri": "https://localhost:8080/"
        },
        "id": "5EjxAE5yamNv",
        "outputId": "6924f651-d163-4c9e-ba59-c3b615bab477"
      },
      "execution_count": 9,
      "outputs": [
        {
          "output_type": "execute_result",
          "data": {
            "text/plain": [
              "Data(x=[2518, 3], y=[2518], pos=[2518, 3], category=[1], edge_index=[2, 15108])"
            ]
          },
          "metadata": {},
          "execution_count": 9
        }
      ]
    },
    {
      "cell_type": "code",
      "source": [
        "device = 'cuda' if torch.cuda.is_available() else 'cpu'\n",
        "device"
      ],
      "metadata": {
        "colab": {
          "base_uri": "https://localhost:8080/",
          "height": 36
        },
        "id": "uN2o-_mEWTsC",
        "outputId": "78068bed-64d6-4055-96b1-329935837086"
      },
      "execution_count": 30,
      "outputs": [
        {
          "output_type": "execute_result",
          "data": {
            "text/plain": [
              "'cuda'"
            ],
            "application/vnd.google.colaboratory.intrinsic+json": {
              "type": "string"
            }
          },
          "metadata": {},
          "execution_count": 30
        }
      ]
    },
    {
      "cell_type": "code",
      "source": [
        "dataset"
      ],
      "metadata": {
        "colab": {
          "base_uri": "https://localhost:8080/"
        },
        "id": "uw3nIZv-lkJ_",
        "outputId": "9d4a8213-f35e-405e-c755-dc04cab5f193"
      },
      "execution_count": 22,
      "outputs": [
        {
          "output_type": "execute_result",
          "data": {
            "text/plain": [
              "ShapeNet(2349, categories=['Airplane'])"
            ]
          },
          "metadata": {},
          "execution_count": 22
        }
      ]
    },
    {
      "cell_type": "code",
      "source": [
        "print()\n",
        "print(f'Dataset: {dataset}:')\n",
        "print('====================')\n",
        "print(f'Number of graphs: {len(dataset)}')\n",
        "print(f'Number of features: {dataset.num_features}')\n",
        "print(f'Number of classes: {dataset.num_classes}')\n",
        "print(data)\n",
        "print('=============================================================')\n",
        "\n",
        "# Gather some statistics about the first graph.\n",
        "print(f'Number of nodes: {data.num_nodes}')\n",
        "print(f'Number of edges: {data.num_edges}')\n",
        "print(f'Average node degree: {data.num_edges / data.num_nodes:.2f}')\n",
        "print(f'Has isolated nodes: {data.has_isolated_nodes()}')\n",
        "print(f'Has self-loops: {data.has_self_loops()}')\n",
        "print(f'Is undirected: {data.is_undirected()}')"
      ],
      "metadata": {
        "colab": {
          "base_uri": "https://localhost:8080/"
        },
        "id": "kbHbQjHxgXiq",
        "outputId": "f7ef71ed-09f4-4382-ebc0-8e328b3cdaad"
      },
      "execution_count": 7,
      "outputs": [
        {
          "output_type": "stream",
          "name": "stdout",
          "text": [
            "\n",
            "Dataset: ShapeNet(2349, categories=['Airplane']):\n",
            "====================\n",
            "Number of graphs: 2349\n",
            "Number of features: 3\n",
            "Number of classes: 50\n",
            "Data(x=[2518, 3], y=[2518], pos=[2518, 3], category=[1], edge_index=[2, 15108])\n",
            "=============================================================\n",
            "Number of nodes: 2518\n",
            "Number of edges: 15108\n",
            "Average node degree: 6.00\n",
            "Has isolated nodes: False\n",
            "Has self-loops: False\n",
            "Is undirected: False\n"
          ]
        }
      ]
    },
    {
      "cell_type": "code",
      "source": [
        "torch.manual_seed(12345)\n",
        "dataset = dataset.shuffle()\n",
        "\n",
        "train_dataset = dataset[:1879]\n",
        "test_dataset = dataset[1879:]\n",
        "\n",
        "print(f'Number of training graphs: {len(train_dataset)}')\n",
        "print(f'Number of test graphs: {len(test_dataset)}')"
      ],
      "metadata": {
        "colab": {
          "base_uri": "https://localhost:8080/"
        },
        "id": "8IkjTZteyW3D",
        "outputId": "e40704d2-558a-47a4-d8a3-df1279168d49"
      },
      "execution_count": 9,
      "outputs": [
        {
          "output_type": "stream",
          "name": "stdout",
          "text": [
            "Number of training graphs: 1879\n",
            "Number of test graphs: 470\n"
          ]
        }
      ]
    },
    {
      "cell_type": "code",
      "source": [
        "from torch_geometric.loader import DataLoader\n",
        "\n",
        "train_loader = DataLoader(train_dataset, batch_size=64, shuffle=True)\n",
        "test_loader = DataLoader(test_dataset, batch_size=64, shuffle=False)\n",
        "\n",
        "for step, data in enumerate(train_loader):\n",
        "    print(f'Step {step + 1}:')\n",
        "    print('=======')\n",
        "    print(f'Number of graphs in the current batch: {data.num_graphs}')\n",
        "    print(data)\n",
        "    print()"
      ],
      "metadata": {
        "colab": {
          "base_uri": "https://localhost:8080/"
        },
        "id": "SnEhwczey_16",
        "outputId": "b0c5a90a-3648-4f3b-8716-9d276a7ea8cc"
      },
      "execution_count": 10,
      "outputs": [
        {
          "output_type": "stream",
          "name": "stdout",
          "text": [
            "Step 1:\n",
            "=======\n",
            "Number of graphs in the current batch: 64\n",
            "DataBatch(x=[164933, 3], y=[164933], pos=[164933, 3], category=[64], edge_index=[2, 989598], batch=[164933], ptr=[65])\n",
            "\n",
            "Step 2:\n",
            "=======\n",
            "Number of graphs in the current batch: 64\n",
            "DataBatch(x=[163853, 3], y=[163853], pos=[163853, 3], category=[64], edge_index=[2, 983118], batch=[163853], ptr=[65])\n",
            "\n",
            "Step 3:\n",
            "=======\n",
            "Number of graphs in the current batch: 64\n",
            "DataBatch(x=[165033, 3], y=[165033], pos=[165033, 3], category=[64], edge_index=[2, 990198], batch=[165033], ptr=[65])\n",
            "\n",
            "Step 4:\n",
            "=======\n",
            "Number of graphs in the current batch: 64\n",
            "DataBatch(x=[164750, 3], y=[164750], pos=[164750, 3], category=[64], edge_index=[2, 988500], batch=[164750], ptr=[65])\n",
            "\n",
            "Step 5:\n",
            "=======\n",
            "Number of graphs in the current batch: 64\n",
            "DataBatch(x=[163703, 3], y=[163703], pos=[163703, 3], category=[64], edge_index=[2, 982218], batch=[163703], ptr=[65])\n",
            "\n",
            "Step 6:\n",
            "=======\n",
            "Number of graphs in the current batch: 64\n",
            "DataBatch(x=[164545, 3], y=[164545], pos=[164545, 3], category=[64], edge_index=[2, 987270], batch=[164545], ptr=[65])\n",
            "\n",
            "Step 7:\n",
            "=======\n",
            "Number of graphs in the current batch: 64\n",
            "DataBatch(x=[165405, 3], y=[165405], pos=[165405, 3], category=[64], edge_index=[2, 992430], batch=[165405], ptr=[65])\n",
            "\n",
            "Step 8:\n",
            "=======\n",
            "Number of graphs in the current batch: 64\n",
            "DataBatch(x=[163724, 3], y=[163724], pos=[163724, 3], category=[64], edge_index=[2, 982344], batch=[163724], ptr=[65])\n",
            "\n",
            "Step 9:\n",
            "=======\n",
            "Number of graphs in the current batch: 64\n",
            "DataBatch(x=[164902, 3], y=[164902], pos=[164902, 3], category=[64], edge_index=[2, 989412], batch=[164902], ptr=[65])\n",
            "\n",
            "Step 10:\n",
            "=======\n",
            "Number of graphs in the current batch: 64\n",
            "DataBatch(x=[164625, 3], y=[164625], pos=[164625, 3], category=[64], edge_index=[2, 987750], batch=[164625], ptr=[65])\n",
            "\n",
            "Step 11:\n",
            "=======\n",
            "Number of graphs in the current batch: 64\n",
            "DataBatch(x=[165066, 3], y=[165066], pos=[165066, 3], category=[64], edge_index=[2, 990396], batch=[165066], ptr=[65])\n",
            "\n",
            "Step 12:\n",
            "=======\n",
            "Number of graphs in the current batch: 64\n",
            "DataBatch(x=[165745, 3], y=[165745], pos=[165745, 3], category=[64], edge_index=[2, 994470], batch=[165745], ptr=[65])\n",
            "\n",
            "Step 13:\n",
            "=======\n",
            "Number of graphs in the current batch: 64\n",
            "DataBatch(x=[164556, 3], y=[164556], pos=[164556, 3], category=[64], edge_index=[2, 987336], batch=[164556], ptr=[65])\n",
            "\n",
            "Step 14:\n",
            "=======\n",
            "Number of graphs in the current batch: 64\n",
            "DataBatch(x=[164957, 3], y=[164957], pos=[164957, 3], category=[64], edge_index=[2, 989742], batch=[164957], ptr=[65])\n",
            "\n",
            "Step 15:\n",
            "=======\n",
            "Number of graphs in the current batch: 64\n",
            "DataBatch(x=[164945, 3], y=[164945], pos=[164945, 3], category=[64], edge_index=[2, 989670], batch=[164945], ptr=[65])\n",
            "\n",
            "Step 16:\n",
            "=======\n",
            "Number of graphs in the current batch: 64\n",
            "DataBatch(x=[164582, 3], y=[164582], pos=[164582, 3], category=[64], edge_index=[2, 987492], batch=[164582], ptr=[65])\n",
            "\n",
            "Step 17:\n",
            "=======\n",
            "Number of graphs in the current batch: 64\n",
            "DataBatch(x=[164029, 3], y=[164029], pos=[164029, 3], category=[64], edge_index=[2, 984174], batch=[164029], ptr=[65])\n",
            "\n",
            "Step 18:\n",
            "=======\n",
            "Number of graphs in the current batch: 64\n",
            "DataBatch(x=[163602, 3], y=[163602], pos=[163602, 3], category=[64], edge_index=[2, 981612], batch=[163602], ptr=[65])\n",
            "\n",
            "Step 19:\n",
            "=======\n",
            "Number of graphs in the current batch: 64\n",
            "DataBatch(x=[163862, 3], y=[163862], pos=[163862, 3], category=[64], edge_index=[2, 983172], batch=[163862], ptr=[65])\n",
            "\n",
            "Step 20:\n",
            "=======\n",
            "Number of graphs in the current batch: 64\n",
            "DataBatch(x=[165263, 3], y=[165263], pos=[165263, 3], category=[64], edge_index=[2, 991578], batch=[165263], ptr=[65])\n",
            "\n",
            "Step 21:\n",
            "=======\n",
            "Number of graphs in the current batch: 64\n",
            "DataBatch(x=[165106, 3], y=[165106], pos=[165106, 3], category=[64], edge_index=[2, 990636], batch=[165106], ptr=[65])\n",
            "\n",
            "Step 22:\n",
            "=======\n",
            "Number of graphs in the current batch: 64\n",
            "DataBatch(x=[165841, 3], y=[165841], pos=[165841, 3], category=[64], edge_index=[2, 995046], batch=[165841], ptr=[65])\n",
            "\n",
            "Step 23:\n",
            "=======\n",
            "Number of graphs in the current batch: 64\n",
            "DataBatch(x=[164536, 3], y=[164536], pos=[164536, 3], category=[64], edge_index=[2, 987216], batch=[164536], ptr=[65])\n",
            "\n",
            "Step 24:\n",
            "=======\n",
            "Number of graphs in the current batch: 64\n",
            "DataBatch(x=[163878, 3], y=[163878], pos=[163878, 3], category=[64], edge_index=[2, 983268], batch=[163878], ptr=[65])\n",
            "\n",
            "Step 25:\n",
            "=======\n",
            "Number of graphs in the current batch: 64\n",
            "DataBatch(x=[164986, 3], y=[164986], pos=[164986, 3], category=[64], edge_index=[2, 989916], batch=[164986], ptr=[65])\n",
            "\n",
            "Step 26:\n",
            "=======\n",
            "Number of graphs in the current batch: 64\n",
            "DataBatch(x=[163981, 3], y=[163981], pos=[163981, 3], category=[64], edge_index=[2, 983886], batch=[163981], ptr=[65])\n",
            "\n",
            "Step 27:\n",
            "=======\n",
            "Number of graphs in the current batch: 64\n",
            "DataBatch(x=[165143, 3], y=[165143], pos=[165143, 3], category=[64], edge_index=[2, 990858], batch=[165143], ptr=[65])\n",
            "\n",
            "Step 28:\n",
            "=======\n",
            "Number of graphs in the current batch: 64\n",
            "DataBatch(x=[163547, 3], y=[163547], pos=[163547, 3], category=[64], edge_index=[2, 981282], batch=[163547], ptr=[65])\n",
            "\n",
            "Step 29:\n",
            "=======\n",
            "Number of graphs in the current batch: 64\n",
            "DataBatch(x=[164809, 3], y=[164809], pos=[164809, 3], category=[64], edge_index=[2, 988854], batch=[164809], ptr=[65])\n",
            "\n",
            "Step 30:\n",
            "=======\n",
            "Number of graphs in the current batch: 23\n",
            "DataBatch(x=[59458, 3], y=[59458], pos=[59458, 3], category=[23], edge_index=[2, 356748], batch=[59458], ptr=[24])\n",
            "\n"
          ]
        }
      ]
    },
    {
      "cell_type": "code",
      "source": [
        "data.y.unique()"
      ],
      "metadata": {
        "colab": {
          "base_uri": "https://localhost:8080/"
        },
        "id": "2IUzkjy20Uz1",
        "outputId": "82038625-5102-41a2-be10-d3ab402906b9"
      },
      "execution_count": 34,
      "outputs": [
        {
          "output_type": "execute_result",
          "data": {
            "text/plain": [
              "tensor([0, 1, 2, 3])"
            ]
          },
          "metadata": {},
          "execution_count": 34
        }
      ]
    },
    {
      "cell_type": "code",
      "source": [
        "from IPython.display import Javascript\n",
        "display(Javascript('''google.colab.output.setIframeHeight(0, true, {maxHeight: 300})'''))"
      ],
      "metadata": {
        "colab": {
          "base_uri": "https://localhost:8080/",
          "height": 17
        },
        "id": "splc-LLGzgkr",
        "outputId": "4a1ab4df-f00f-4813-a757-7d71cfffc860"
      },
      "execution_count": 26,
      "outputs": [
        {
          "output_type": "display_data",
          "data": {
            "text/plain": [
              "<IPython.core.display.Javascript object>"
            ],
            "application/javascript": [
              "google.colab.output.setIframeHeight(0, true, {maxHeight: 300})"
            ]
          },
          "metadata": {}
        }
      ]
    },
    {
      "cell_type": "code",
      "source": [
        "import torch\n",
        "import torch.nn as nn\n",
        "import torch.nn.functional as F\n",
        "from torch_geometric.nn import GCNConv\n",
        "\n",
        "class GNNModel(nn.Module):\n",
        "    def __init__(self, input_dim, hidden_dim, output_dim):\n",
        "        super(GNNModel, self).__init__()\n",
        "        self.conv1 = GCNConv(input_dim, hidden_dim)\n",
        "        self.conv2 = GCNConv(hidden_dim, hidden_dim)\n",
        "        self.conv3 = GCNConv(hidden_dim, hidden_dim)\n",
        "        self.lin = nn.Linear(hidden_dim, output_dim)\n",
        "\n",
        "    def forward(self, x, edge_index):\n",
        "        x = self.conv1(x, edge_index)\n",
        "        x = F.relu(x)\n",
        "        x = self.conv2(x, edge_index)\n",
        "        x = F.relu(x)\n",
        "        x = self.conv3(x, edge_index)\n",
        "        x = F.relu(x)\n",
        "        x = self.lin(x)\n",
        "        return x\n"
      ],
      "metadata": {
        "id": "dkvWRT2N_fJ1"
      },
      "execution_count": 51,
      "outputs": []
    },
    {
      "cell_type": "code",
      "source": [
        "model = GNNModel(3, 64, 4)\n",
        "optimizer = torch.optim.Adam(model.parameters(), lr=0.01)\n",
        "criterion = torch.nn.CrossEntropyLoss()"
      ],
      "metadata": {
        "id": "0jfmfEyUA5ao"
      },
      "execution_count": 52,
      "outputs": []
    },
    {
      "cell_type": "code",
      "source": [
        "model"
      ],
      "metadata": {
        "colab": {
          "base_uri": "https://localhost:8080/"
        },
        "id": "_gJ5qwfJBhwB",
        "outputId": "110ba9e9-1274-4c8b-8add-2f881ea1c094"
      },
      "execution_count": 53,
      "outputs": [
        {
          "output_type": "execute_result",
          "data": {
            "text/plain": [
              "GNNModel(\n",
              "  (conv1): GCNConv(3, 64)\n",
              "  (conv2): GCNConv(64, 64)\n",
              "  (conv3): GCNConv(64, 64)\n",
              "  (lin): Linear(in_features=64, out_features=4, bias=True)\n",
              ")"
            ]
          },
          "metadata": {},
          "execution_count": 53
        }
      ]
    },
    {
      "cell_type": "code",
      "source": [
        "model=  model.to(device)"
      ],
      "metadata": {
        "id": "yEJ-g9DDCBER"
      },
      "execution_count": 54,
      "outputs": []
    },
    {
      "cell_type": "code",
      "source": [
        "def train(model, optimizer, criterion, train_loader):\n",
        "    model.train()\n",
        "    for data in train_loader:\n",
        "        data = data.to(device)\n",
        "        optimizer.zero_grad()\n",
        "        out = model(data.x, data.edge_index)\n",
        "        loss = criterion(out, data.y)\n",
        "        loss.backward()\n",
        "        optimizer.step()\n",
        "\n",
        "def test(model, test_loader):\n",
        "    model.eval()\n",
        "    correct = 0\n",
        "    total = 0\n",
        "    with torch.no_grad():\n",
        "        for data in test_loader:\n",
        "            data = data.to(device)\n",
        "            out = model(data.x, data.edge_index)\n",
        "            pred = out.argmax(dim=1)\n",
        "            correct += (pred == data.y).sum().item()\n",
        "            total += data.y.size(0)\n",
        "    return correct / total\n",
        "\n",
        "# Training loop\n",
        "num_epochs = 10\n",
        "for epoch in range(num_epochs):\n",
        "    train(model, optimizer, criterion, train_loader)\n",
        "    test_acc = test(model, test_loader)\n",
        "    print(f'Epoch {epoch + 1}, Test Accuracy: {test_acc:.4f}')"
      ],
      "metadata": {
        "colab": {
          "base_uri": "https://localhost:8080/"
        },
        "id": "a4Sc4Aj5A27v",
        "outputId": "84f4ef3b-2da2-4383-cbdd-008503e16b6b"
      },
      "execution_count": 57,
      "outputs": [
        {
          "output_type": "stream",
          "name": "stdout",
          "text": [
            "Epoch 1, Test Accuracy: 0.7051\n",
            "Epoch 2, Test Accuracy: 0.7149\n",
            "Epoch 3, Test Accuracy: 0.7248\n",
            "Epoch 4, Test Accuracy: 0.7301\n",
            "Epoch 5, Test Accuracy: 0.7331\n",
            "Epoch 6, Test Accuracy: 0.7274\n",
            "Epoch 7, Test Accuracy: 0.7366\n",
            "Epoch 8, Test Accuracy: 0.7402\n",
            "Epoch 9, Test Accuracy: 0.7380\n",
            "Epoch 10, Test Accuracy: 0.7412\n"
          ]
        }
      ]
    },
    {
      "cell_type": "code",
      "source": [],
      "metadata": {
        "id": "v8PRVrDgCDRn"
      },
      "execution_count": null,
      "outputs": []
    }
  ]
}